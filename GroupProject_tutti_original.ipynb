{
 "cells": [
  {
   "cell_type": "code",
   "execution_count": 231,
   "metadata": {
    "scrolled": true
   },
   "outputs": [],
   "source": [
    "from tutti_etl.databases import redshift_db\n",
    "from datetime import date\n",
    "from typing import List\n",
    "\n",
    "#export the data in csv file (static) -> write test code to read that file. \n",
    "#So we limit the data to all the public ads from tutti.ch, which have 3000 or mroe pageviews and were created in the german language\n",
    "\n",
    "sql = \"\"\"\n",
    "    select\n",
    "        region,\n",
    "        ad_top_category,\n",
    "        subject as ad_title\n",
    "    from\n",
    "        public.ads\n",
    "    where\n",
    "        pageviews >= 3000\n",
    "        and lang = 'de'\n",
    "\"\"\"\n",
    "\n",
    "db = redshift_db(host='dwh.tuttidata.ch', port=5439,\n",
    "                 user='tutti_read_only', password='Tutututti123', db_name='dwh_scm_ch')\n",
    "\n",
    "data = db.execute(sql=sql)\n",
    "\n",
    "#data.to_csv('/tmp/active_ads_%s.csv.gz' % date_still_active, index=False, compression='gzip')\n"
   ]
  },
  {
   "cell_type": "code",
   "execution_count": 232,
   "metadata": {},
   "outputs": [],
   "source": [
    "#step 1: opening a file \n",
    "file=open('most_common_ad_regions.txt', 'w')\n",
    "\n",
    "#step 2: determine the first element (0) of the tuple -> region \n",
    "region=[regions[0] for regions in data]\n",
    "\n",
    "#step 3: Change all words in the region to capital letter (visual purpose)\n",
    "region=[region_capital.title() for region_capital in region]\n",
    "\n",
    "#step 4: create a counter\n",
    "import collections\n",
    "counter=collections.Counter(region)\n",
    "\n",
    "#step 5: print all the 24 regions in the order of their counts\n",
    "#print every element per line \n",
    "\n",
    "most_common = counter.most_common(24)\n",
    "\n",
    "for common in most_common:\n",
    "    file.write('Canton:'+ '\\033[1m'+common[0]+'\\033[0m'+';'+'  Count:'+ str(common[1])+'\\n')\n",
    "\n",
    "file.close()\n"
   ]
  },
  {
   "cell_type": "code",
   "execution_count": 233,
   "metadata": {},
   "outputs": [],
   "source": [
    "#step 1: opening a file \n",
    "file=open('most_common_ad_categories.txt', 'w')\n",
    "\n",
    "#step 2: determine the second element (1) of the tuple -> ad_top_category\n",
    "ad_top_category=[categories[1] for categories in data]\n",
    "\n",
    "#step 3: Change all words in the ad_top_category to capital letter (visual purpose)\n",
    "ad_top_category=[category_capital.title() for category_capital in ad_top_category]\n",
    "\n",
    "#step 4: create a counter\n",
    "import collections\n",
    "counter=collections.Counter(ad_top_category)\n",
    "\n",
    "#step 5: print all the 23 top categories (in the german language) \n",
    "#print every element on a new line \n",
    "\n",
    "most_common = counter.most_common(30)\n",
    "for common in most_common:\n",
    "    file.write('Category:'+ '\\033[1m'+common[0]+'\\033[0m'+';'+' Count:'+ str(common[1])+'\\n')\n",
    "\n",
    "file.close()\n"
   ]
  },
  {
   "cell_type": "code",
   "execution_count": 234,
   "metadata": {
    "scrolled": true
   },
   "outputs": [],
   "source": [
    "#step 1: opening a file \n",
    "file=open('most_common_ad_titles.txt', 'w')\n",
    "\n",
    "#step 1: determine the third element (2) of the tuple -> ad title \n",
    "ad_title=[title[2] for title in data]\n",
    "\n",
    "#step 2: Change all words in ad_title to capital letter\n",
    "#We do this becasue otherwise we have some duplicates (e.g Appartamento and appartamento) for our top 25 Words \n",
    "\n",
    "ad_title=[ad_title_capital.title() for ad_title_capital in ad_title]\n",
    "\n",
    "#step 3: define 'stopwords' -> strings, which are only one character or do not deliver any valid content\n",
    "#We do this because we want to get relevant results \n",
    "\n",
    "stopwords=['-', '/', '', ' ', 'A', 'E', 'Zu', 'In', 'Di', 'Per', 'Con', 'Mit', 'Mfk', '3.5', 'Tdi', 'Und', 'Ab', '2', 'Für', '4', '2.5', 'Da', '4.0', '3.5', '2.0', '3', '4.5', 'Auf', 'Im', '5', '1.9']\n",
    "\n",
    "#step 4: create a counter\n",
    "import collections\n",
    "counter=collections.Counter()\n",
    "\n",
    "#step 5: iterate over each ad title (need 'for loops'-> split it by white space -> feed the resulting list into the counter \n",
    "\n",
    "for title in ad_title:\n",
    "    itemWords=title.split(' ')\n",
    "    for w in itemWords:\n",
    "        if w not in stopwords:\n",
    "            counter[w] +=1\n",
    "    \n",
    "#step 6: print the the 25 most common ad_titles\n",
    "most_common = counter.most_common(25)\n",
    "\n",
    "for common in most_common:\n",
    "    file.write('Title word:'+ '\\033[1m'+common[0]+'\\033[0m'+';'+' Count:'+ str(common[1])+'\\n')\n",
    "\n",
    "file.close()"
   ]
  },
  {
   "cell_type": "code",
   "execution_count": null,
   "metadata": {},
   "outputs": [],
   "source": []
  },
  {
   "cell_type": "code",
   "execution_count": null,
   "metadata": {},
   "outputs": [],
   "source": []
  },
  {
   "cell_type": "code",
   "execution_count": null,
   "metadata": {},
   "outputs": [],
   "source": []
  },
  {
   "cell_type": "code",
   "execution_count": null,
   "metadata": {},
   "outputs": [],
   "source": []
  }
 ],
 "metadata": {
  "kernelspec": {
   "display_name": "Python 3",
   "language": "python",
   "name": "python3"
  },
  "language_info": {
   "codemirror_mode": {
    "name": "ipython",
    "version": 3
   },
   "file_extension": ".py",
   "mimetype": "text/x-python",
   "name": "python",
   "nbconvert_exporter": "python",
   "pygments_lexer": "ipython3",
   "version": "3.7.1"
  }
 },
 "nbformat": 4,
 "nbformat_minor": 2
}
